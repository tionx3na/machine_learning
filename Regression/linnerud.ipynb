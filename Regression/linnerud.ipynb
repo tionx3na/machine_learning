{
 "cells": [
  {
   "cell_type": "markdown",
   "source": [
    "Scikit-learn example 2\r\n",
    "-----------------------\r\n",
    "Linnerud Dataset."
   ],
   "metadata": {}
  },
  {
   "cell_type": "code",
   "execution_count": 2,
   "source": [
    "import numpy as np\r\n",
    "from sklearn import datasets, model_selection"
   ],
   "outputs": [],
   "metadata": {}
  },
  {
   "cell_type": "code",
   "execution_count": 6,
   "source": [
    "X, y = datasets.load_linnerud(return_X_y=True)\r\n",
    "print(X.data)"
   ],
   "outputs": [
    {
     "output_type": "stream",
     "name": "stdout",
     "text": [
      "(20, 3)\n"
     ]
    }
   ],
   "metadata": {}
  }
 ],
 "metadata": {
  "orig_nbformat": 4,
  "language_info": {
   "name": "python",
   "version": "3.8.8",
   "mimetype": "text/x-python",
   "codemirror_mode": {
    "name": "ipython",
    "version": 3
   },
   "pygments_lexer": "ipython3",
   "nbconvert_exporter": "python",
   "file_extension": ".py"
  },
  "kernelspec": {
   "name": "python3",
   "display_name": "Python 3.8.8 64-bit ('base': conda)"
  },
  "interpreter": {
   "hash": "e6ad6ef94ad4a60ff55e044ce814bc33ad497b1e5183972321357700cc6a22cf"
  }
 },
 "nbformat": 4,
 "nbformat_minor": 2
}